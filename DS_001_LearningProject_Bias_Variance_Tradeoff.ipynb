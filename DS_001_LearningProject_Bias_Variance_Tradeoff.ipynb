{
  "nbformat": 4,
  "nbformat_minor": 0,
  "metadata": {
    "colab": {
      "provenance": []
    },
    "kernelspec": {
      "name": "python3",
      "display_name": "Python 3"
    },
    "language_info": {
      "name": "python"
    }
  },
  "cells": [
    {
      "cell_type": "markdown",
      "source": [
        "# DS - 001 - Learning Project:  Bias and Variance Tradeoff"
      ],
      "metadata": {
        "id": "CjmtogMUnt9s"
      }
    },
    {
      "cell_type": "markdown",
      "source": [
        "In this notebook, we talk a little bit about the *bias-variance trade-off*, one important topic when we try to measure our model performance."
      ],
      "metadata": {
        "id": "bY5V5_xJn0gE"
      }
    },
    {
      "cell_type": "markdown",
      "source": [
        "## 1. Libraries"
      ],
      "metadata": {
        "id": "IKMtl59voCGc"
      }
    },
    {
      "cell_type": "code",
      "execution_count": 2,
      "metadata": {
        "id": "yqujT5aWWqpO"
      },
      "outputs": [],
      "source": [
        "# The basic ones\n",
        "import pandas as pd\n",
        "import numpy as np\n",
        "\n",
        "# Importing sklearn model library\n",
        "from sklearn.linear_model import SGDRegressor,LinearRegression\n",
        "from sklearn.model_selection import train_test_split, KFold, cross_val_score #the last ones are for cross validation\n",
        "from sklearn.preprocessing import StandardScaler #to make the feature scaling\n",
        "from sklearn.preprocessing import PolynomialFeatures\n",
        "from sklearn.metrics import mean_squared_error, accuracy_score, f1_score, r2_score, precision_score, recall_score, classification_report, confusion_matrix\n",
        "\n",
        "# For plotting the linear regressions\n",
        "import seaborn as sns\n",
        "import matplotlib.pyplot as plt\n",
        "\n",
        "import random\n",
        "import math\n",
        "\n",
        "from scipy.interpolate import make_interp_spline, BSpline\n"
      ]
    },
    {
      "cell_type": "markdown",
      "source": [
        "## 2. Dataset"
      ],
      "metadata": {
        "id": "1lcBuBZSo7RK"
      }
    },
    {
      "cell_type": "markdown",
      "source": [
        "This is a fancy way to generate random data that follow a function we designed for our example."
      ],
      "metadata": {
        "id": "JabSL94DRsrm"
      }
    },
    {
      "cell_type": "code",
      "source": [
        "def generate_sample_data(f, first, last, size=100):\n",
        "  x_arr = []\n",
        "  y_arr = []\n",
        "  for _ in range(size):\n",
        "    x = random.random()*(last-first)\n",
        "    y = f(x)\n",
        "    x_arr.append(x)\n",
        "    y_arr.append(y)\n",
        "\n",
        "  return x_arr,y_arr\n",
        "\n",
        "# Based on a function we could designed we call the generate_sample_data method\n",
        "mu, sigma = 0, 0.1\n",
        "f = lambda x: 4 + 5 * x - 3 * x*x + 0.1 * x * x * x + np.random.normal(mu, sigma)\n",
        "\n",
        "x,y = generate_sample_data(f, 0, 2, size=20)\n",
        "\n",
        "#Creating the dataset for the explanation\n",
        "dataset = pd.DataFrame({\"x\":np.array(x),\"y\":np.array(y)}).sort_values(by='x')\n",
        "dataset.head()\n",
        "\n",
        "x = np.array(dataset['x'])\n",
        "y = np.array(dataset['y'])"
      ],
      "metadata": {
        "id": "XXznbPQifiMi"
      },
      "execution_count": 3,
      "outputs": []
    },
    {
      "cell_type": "markdown",
      "source": [
        "## 3. Constructing the regression models"
      ],
      "metadata": {
        "id": "EyVcp5pyo9rJ"
      }
    },
    {
      "cell_type": "markdown",
      "source": [
        "#### 3.1 Linear Regression"
      ],
      "metadata": {
        "id": "Dk8mAEuUpO9C"
      }
    },
    {
      "cell_type": "code",
      "source": [
        "# Sklearn demands to have a 2D array, let´s reshape the array\n",
        "data = x.reshape((-1,1))\n",
        "\n",
        "# Creating the Linear Regression Model\n",
        "linear_model = LinearRegression()\n",
        "linear_model.fit(data,y)\n",
        "\n",
        "# Making predictions\n",
        "y_pred = linear_model.predict(data)\n",
        "\n",
        "# Calculating some metrics including bias and variance\n",
        "r2 = r2_score(y,y_pred)\n",
        "\n",
        "irreducible_error = 0.01\n",
        "\n",
        "# Mean Squared Error\n",
        "mse = np.mean(( y - y_pred ) ** 2)\n",
        "\n",
        "# Sum of Squared Error\n",
        "sse = np.mean((np.mean(y_pred) - y)**2 )\n",
        "\n",
        "# Variance\n",
        "var = np.mean(y_pred ** 2) - np.mean(y_pred) ** 2\n",
        "\n",
        "# Bias\n",
        "bias_2 = mse - var - irreducible_error\n",
        "\n",
        "# Results Summary\n",
        "print(\"Results Summary - Degree 1: \")\n",
        "print(\"----------------------------\")\n",
        "print(\"R2 Score: %.4f\" % r2)\n",
        "print(\"Mean Squared Error: %.6f\" % mse)\n",
        "print(\"Bias Squared: %.6f\" % bias_2)\n",
        "print(\"Variance: %.6f\\n\" % var)\n",
        "\n",
        "ax = sns.scatterplot(data=dataset, x=\"x\", y=\"y\",\n",
        "                     color=\"gray\", alpha=0.5)\n",
        "ax.plot(data, y_pred)\n",
        "_ = ax.set_title(f\"Test Data Set Degree 1 - R2 score = {r2:.2f}\")"
      ],
      "metadata": {
        "colab": {
          "base_uri": "https://localhost:8080/",
          "height": 417
        },
        "id": "1HPbTWYo1otV",
        "outputId": "9d97856f-25ff-45dc-c8ab-624dca2940fa"
      },
      "execution_count": 57,
      "outputs": [
        {
          "output_type": "stream",
          "name": "stdout",
          "text": [
            "Results Summary - Degree 1: \n",
            "----------------------------\n",
            "R2 Score: 0.0494\n",
            "Mean Squared Error: 0.604344\n",
            "Bias Squared: 0.562958\n",
            "Variance: 0.031386\n",
            "\n"
          ]
        },
        {
          "output_type": "display_data",
          "data": {
            "text/plain": [
              "<Figure size 432x288 with 1 Axes>"
            ],
            "image/png": "[encoded data removed]"
          },
          "metadata": {
            "needs_background": "light"
          }
        }
      ]
    },
    {
      "cell_type": "markdown",
      "source": [
        "As we can see, this model is pretty bad, we can even notice on the graph and on the *mse*. In this cases we are talking about that your model is **underfitting**, when your model cannot explain your target (no matter if you are using your train dataset, your test dataset or even your future inputs).\n",
        "\n",
        "**Remember**:\n",
        "- If you have high bias instead of high variance, your model is underfitting.\n",
        "\n",
        "- It was pretty obvious that the linear model will not fit for these context, but it is part of the explanation :)"
      ],
      "metadata": {
        "id": "uPxuFomtpItj"
      }
    },
    {
      "cell_type": "markdown",
      "source": [
        "#### 3.2 Polynomial Regression (Degree 2)"
      ],
      "metadata": {
        "id": "nxxRFn-wqdfF"
      }
    },
    {
      "cell_type": "code",
      "source": [
        "#Reshaping dataset before poly features\n",
        "dataset_poly = x.reshape((-1,1))\n",
        "\n",
        "#Create the polinomial features\n",
        "polynomial_converter = PolynomialFeatures(degree=2,include_bias=False)\n",
        "\n",
        "# Fit and transform\n",
        "poly_features = polynomial_converter.fit(dataset_poly)\n",
        "poly_features = polynomial_converter.transform(dataset_poly)\n",
        "\n",
        "linear_model = LinearRegression()\n",
        "linear_model.fit(poly_features,y)\n",
        "\n",
        "y_pred = linear_model.predict(poly_features)\n",
        "\n",
        "r2 = r2_score(y,y_pred)\n",
        "\n",
        "irreducible_error = 0.01\n",
        "\n",
        "# Mean Squared Error\n",
        "mse = np.mean(( y - y_pred ) ** 2)\n",
        "\n",
        "# Sum of Squared Error\n",
        "sse = np.mean((np.mean(y_pred) - y)**2 )\n",
        "\n",
        "# Variance\n",
        "var = np.mean(y_pred ** 2) - np.mean(y_pred) ** 2\n",
        "\n",
        "# Bias\n",
        "bias_2 = mse - var - irreducible_error\n",
        "\n",
        "# Results Summary\n",
        "print(\"Results Summary - Degree 2: \")\n",
        "print(\"----------------------------\")\n",
        "print(\"R2 Score: %.4f\" % r2)\n",
        "print(\"Mean Squared Error: %.6f\" % mse)\n",
        "print(\"Bias Squared: %.6f\" % bias_2)\n",
        "print(\"Variance: %.6f\\n\" % var)\n",
        "\n",
        "ax = sns.scatterplot(data=dataset, x=\"x\", y=\"y\",\n",
        "                     color=\"gray\", alpha=0.5)\n",
        "ax.plot(x, y_pred)\n",
        "_ = ax.set_title(f\"Test Data Set Degree 2 - R2 score = {r2:.2f}\")"
      ],
      "metadata": {
        "colab": {
          "base_uri": "https://localhost:8080/",
          "height": 417
        },
        "id": "pyqMCsxl282M",
        "outputId": "07ab2212-3e07-41b4-fd71-8b795fa09d8a"
      },
      "execution_count": 58,
      "outputs": [
        {
          "output_type": "stream",
          "name": "stdout",
          "text": [
            "Results Summary - Degree 2: \n",
            "----------------------------\n",
            "R2 Score: 0.9896\n",
            "Mean Squared Error: 0.006623\n",
            "Bias Squared: -0.632484\n",
            "Variance: 0.629107\n",
            "\n"
          ]
        },
        {
          "output_type": "display_data",
          "data": {
            "text/plain": [
              "<Figure size 432x288 with 1 Axes>"
            ],
            "image/png": "[encoded data removed]"
          },
          "metadata": {
            "needs_background": "light"
          }
        }
      ]
    },
    {
      "cell_type": "markdown",
      "source": [
        "Seems to fit 'right', not well but could be sufficient. Let's try a higher degree."
      ],
      "metadata": {
        "id": "tgT3Z3tFrj_h"
      }
    },
    {
      "cell_type": "markdown",
      "source": [
        "#### 3.2 Polynomial Regression (Degree 10) - maybe I'm exagerating jeje"
      ],
      "metadata": {
        "id": "c30ycrRZrwtY"
      }
    },
    {
      "cell_type": "code",
      "source": [
        "#Reshaping dataset before poly features\n",
        "dataset_poly = x.reshape((-1,1))\n",
        "\n",
        "#Create the polinomial features\n",
        "polynomial_converter = PolynomialFeatures(degree=10,include_bias=False)\n",
        "\n",
        "# Fit and transform\n",
        "poly_features = polynomial_converter.fit(dataset_poly)\n",
        "poly_features = polynomial_converter.transform(dataset_poly)\n",
        "\n",
        "# Creating the model\n",
        "linear_model = LinearRegression()\n",
        "linear_model.fit(poly_features,y)\n",
        "\n",
        "y_pred = linear_model.predict(poly_features)\n",
        "\n",
        "r2 = r2_score(y,y_pred)\n",
        "\n",
        "irreducible_error = 0.01\n",
        "\n",
        "# Mean Squared Error\n",
        "mse = np.mean(( y - y_pred ) ** 2)\n",
        "\n",
        "# Sum of Squared Error\n",
        "sse = np.mean((np.mean(y_pred) - y)**2 )\n",
        "\n",
        "# Variance\n",
        "var = np.mean(y_pred ** 2) - np.mean(y_pred) ** 2\n",
        "\n",
        "# Bias\n",
        "bias_2 = mse - var - irreducible_error\n",
        "\n",
        "# Results Summary\n",
        "print(\"Results Summary - Degree 10:\")\n",
        "print(\"----------------------------\")\n",
        "print(\"R2 Score: %.4f\" % r2)\n",
        "print(\"Mean Squared Error: %.6f\" % mse)\n",
        "print(\"Bias Squared: %.6f\" % bias_2)\n",
        "print(\"Variance: %.6f\\n\" % var)\n",
        "\n",
        "ax = sns.scatterplot(data=dataset, x=\"x\", y=\"y\",\n",
        "                     color=\"gray\", alpha=0.5)\n",
        "ax.plot(x, y_pred)\n",
        "_ = ax.set_title(f\"Test Data Set Degree 10 - R2 score = {r2:.2f}\")"
      ],
      "metadata": {
        "colab": {
          "base_uri": "https://localhost:8080/",
          "height": 417
        },
        "id": "aHLEWEZm3QiE",
        "outputId": "c7b27c13-fdce-43f3-c70d-bbe16bf6246d"
      },
      "execution_count": 59,
      "outputs": [
        {
          "output_type": "stream",
          "name": "stdout",
          "text": [
            "Results Summary - Degree 10:\n",
            "----------------------------\n",
            "R2 Score: 0.9952\n",
            "Mean Squared Error: 0.003025\n",
            "Bias Squared: -0.639679\n",
            "Variance: 0.632704\n",
            "\n"
          ]
        },
        {
          "output_type": "display_data",
          "data": {
            "text/plain": [
              "<Figure size 432x288 with 1 Axes>"
            ],
            "image/png": "[encoded data removed]"
          },
          "metadata": {
            "needs_background": "light"
          }
        }
      ]
    },
    {
      "cell_type": "markdown",
      "source": [
        "Awesome! Seems to fit 'better' our dataset, however the bad news is that our model is **overfitting**.\n",
        "\n",
        "That means maybe your model explains the variability of your training set very well, but you will see the the test set or the new incoming datasets won't have good results.\n",
        "\n",
        "**Remember**:\n",
        "- If you have high variance instead of high bias, your model is overfitting.\n",
        "\n",
        "- Actually, your model is constructed including that 'noise' we put at the beginning, which is not what we want because it's noise!"
      ],
      "metadata": {
        "id": "sOLBxckPu1wq"
      }
    },
    {
      "cell_type": "markdown",
      "source": [
        "### Calculating Bias and Variance for 150 models"
      ],
      "metadata": {
        "id": "6cyYTPbrZiBE"
      }
    },
    {
      "cell_type": "code",
      "source": [
        "#For bias and variance plot, let's create 2 arrays\n",
        "bias_2_array = []\n",
        "vars_array = []\n",
        "exps = np.arange(0, 100, 1)\n",
        "\n",
        "# Let's make a loop for the polynomial features\n",
        "dataset_poly = x.reshape((-1,1))\n",
        "\n",
        "# Running 150 different polynomial models\n",
        "for i in range(1,101):\n",
        "  polynomial_converter = PolynomialFeatures(degree=i,include_bias=False)\n",
        "\n",
        "  # Fit and transform\n",
        "  poly_features = polynomial_converter.fit(dataset_poly)\n",
        "  poly_features = polynomial_converter.transform(dataset_poly)\n",
        "\n",
        "  # Creating the model\n",
        "  linear_model = LinearRegression()\n",
        "  linear_model.fit(poly_features,y)\n",
        "\n",
        "  y_pred = linear_model.predict(poly_features)\n",
        "  \n",
        "  mse = mean_squared_error(y,y_pred)\n",
        "\n",
        "  r2 = r2_score(y,y_pred)\n",
        "\n",
        "  irreducible_error = 0.01\n",
        "\n",
        "  # Mean Squared Error\n",
        "  mse = np.mean(( y - y_pred ) ** 2)\n",
        "\n",
        "  # Sum of Squared Error\n",
        "  sse = np.mean((np.mean(y_pred) - y)**2 )\n",
        "\n",
        "  # Variance\n",
        "  var = np.mean(y_pred ** 2) - np.mean(y_pred) ** 2\n",
        "\n",
        "  # Bias\n",
        "  bias_2 = mse - var - irreducible_error\n",
        "\n",
        "  bias_2_array.append(bias_2)\n",
        "  vars_array.append(var)\n",
        "\n",
        "  print(f\"Model with polynomial features degree {i} processed.\")"
      ],
      "metadata": {
        "colab": {
          "base_uri": "https://localhost:8080/"
        },
        "id": "NnoYRzctbXFZ",
        "outputId": "14dfc155-6861-4b96-98ee-edeef49c1e3e"
      },
      "execution_count": 65,
      "outputs": [
        {
          "output_type": "stream",
          "name": "stdout",
          "text": [
            "Model with polynomial features degree 1 processed.\n",
            "Model with polynomial features degree 2 processed.\n",
            "Model with polynomial features degree 3 processed.\n",
            "Model with polynomial features degree 4 processed.\n",
            "Model with polynomial features degree 5 processed.\n",
            "Model with polynomial features degree 6 processed.\n",
            "Model with polynomial features degree 7 processed.\n",
            "Model with polynomial features degree 8 processed.\n",
            "Model with polynomial features degree 9 processed.\n",
            "Model with polynomial features degree 10 processed.\n",
            "Model with polynomial features degree 11 processed.\n",
            "Model with polynomial features degree 12 processed.\n",
            "Model with polynomial features degree 13 processed.\n",
            "Model with polynomial features degree 14 processed.\n",
            "Model with polynomial features degree 15 processed.\n",
            "Model with polynomial features degree 16 processed.\n",
            "Model with polynomial features degree 17 processed.\n",
            "Model with polynomial features degree 18 processed.\n",
            "Model with polynomial features degree 19 processed.\n",
            "Model with polynomial features degree 20 processed.\n",
            "Model with polynomial features degree 21 processed.\n",
            "Model with polynomial features degree 22 processed.\n",
            "Model with polynomial features degree 23 processed.\n",
            "Model with polynomial features degree 24 processed.\n",
            "Model with polynomial features degree 25 processed.\n",
            "Model with polynomial features degree 26 processed.\n",
            "Model with polynomial features degree 27 processed.\n",
            "Model with polynomial features degree 28 processed.\n",
            "Model with polynomial features degree 29 processed.\n",
            "Model with polynomial features degree 30 processed.\n",
            "Model with polynomial features degree 31 processed.\n",
            "Model with polynomial features degree 32 processed.\n",
            "Model with polynomial features degree 33 processed.\n",
            "Model with polynomial features degree 34 processed.\n",
            "Model with polynomial features degree 35 processed.\n",
            "Model with polynomial features degree 36 processed.\n",
            "Model with polynomial features degree 37 processed.\n",
            "Model with polynomial features degree 38 processed.\n",
            "Model with polynomial features degree 39 processed.\n",
            "Model with polynomial features degree 40 processed.\n",
            "Model with polynomial features degree 41 processed.\n",
            "Model with polynomial features degree 42 processed.\n",
            "Model with polynomial features degree 43 processed.\n",
            "Model with polynomial features degree 44 processed.\n",
            "Model with polynomial features degree 45 processed.\n",
            "Model with polynomial features degree 46 processed.\n",
            "Model with polynomial features degree 47 processed.\n",
            "Model with polynomial features degree 48 processed.\n",
            "Model with polynomial features degree 49 processed.\n",
            "Model with polynomial features degree 50 processed.\n",
            "Model with polynomial features degree 51 processed.\n",
            "Model with polynomial features degree 52 processed.\n",
            "Model with polynomial features degree 53 processed.\n",
            "Model with polynomial features degree 54 processed.\n",
            "Model with polynomial features degree 55 processed.\n",
            "Model with polynomial features degree 56 processed.\n",
            "Model with polynomial features degree 57 processed.\n",
            "Model with polynomial features degree 58 processed.\n",
            "Model with polynomial features degree 59 processed.\n",
            "Model with polynomial features degree 60 processed.\n",
            "Model with polynomial features degree 61 processed.\n",
            "Model with polynomial features degree 62 processed.\n",
            "Model with polynomial features degree 63 processed.\n",
            "Model with polynomial features degree 64 processed.\n",
            "Model with polynomial features degree 65 processed.\n",
            "Model with polynomial features degree 66 processed.\n",
            "Model with polynomial features degree 67 processed.\n",
            "Model with polynomial features degree 68 processed.\n",
            "Model with polynomial features degree 69 processed.\n",
            "Model with polynomial features degree 70 processed.\n",
            "Model with polynomial features degree 71 processed.\n",
            "Model with polynomial features degree 72 processed.\n",
            "Model with polynomial features degree 73 processed.\n",
            "Model with polynomial features degree 74 processed.\n",
            "Model with polynomial features degree 75 processed.\n",
            "Model with polynomial features degree 76 processed.\n",
            "Model with polynomial features degree 77 processed.\n",
            "Model with polynomial features degree 78 processed.\n",
            "Model with polynomial features degree 79 processed.\n",
            "Model with polynomial features degree 80 processed.\n",
            "Model with polynomial features degree 81 processed.\n",
            "Model with polynomial features degree 82 processed.\n",
            "Model with polynomial features degree 83 processed.\n",
            "Model with polynomial features degree 84 processed.\n",
            "Model with polynomial features degree 85 processed.\n",
            "Model with polynomial features degree 86 processed.\n",
            "Model with polynomial features degree 87 processed.\n",
            "Model with polynomial features degree 88 processed.\n",
            "Model with polynomial features degree 89 processed.\n",
            "Model with polynomial features degree 90 processed.\n",
            "Model with polynomial features degree 91 processed.\n",
            "Model with polynomial features degree 92 processed.\n",
            "Model with polynomial features degree 93 processed.\n",
            "Model with polynomial features degree 94 processed.\n",
            "Model with polynomial features degree 95 processed.\n",
            "Model with polynomial features degree 96 processed.\n",
            "Model with polynomial features degree 97 processed.\n",
            "Model with polynomial features degree 98 processed.\n",
            "Model with polynomial features degree 99 processed.\n",
            "Model with polynomial features degree 100 processed.\n"
          ]
        }
      ]
    },
    {
      "cell_type": "markdown",
      "source": [
        "### Plotting the Bias and Variance"
      ],
      "metadata": {
        "id": "mxkgPS9kWqAF"
      }
    },
    {
      "cell_type": "code",
      "source": [
        "plt.plot(exps,np.array(bias_2_array),label=\"Bias^2\")\n",
        "plt.plot(exps,np.array(vars_array),label=\"Variance\")\n",
        "plt.title(\"Bias vs Variance - x-axis: polynomial degree\")\n",
        "plt.legend(loc=\"upper right\")\n",
        "plt.show()"
      ],
      "metadata": {
        "colab": {
          "base_uri": "https://localhost:8080/",
          "height": 281
        },
        "id": "Knn7W6WFZ_rp",
        "outputId": "05cdeb97-1fc7-4e13-f651-1f23e35a4a66"
      },
      "execution_count": 66,
      "outputs": [
        {
          "output_type": "display_data",
          "data": {
            "text/plain": [
              "<Figure size 432x288 with 1 Axes>"
            ],
            "image/png": "[encoded data removed]"
          },
          "metadata": {
            "needs_background": "light"
          }
        }
      ]
    }
  ]
}